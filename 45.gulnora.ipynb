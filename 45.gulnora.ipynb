{
 "cells": [
  {
   "cell_type": "code",
   "execution_count": 1,
   "id": "83aec1b1-4dc3-480d-852b-78133428241b",
   "metadata": {},
   "outputs": [],
   "source": [
    "import numpy as np\n",
    "import matplotlib.pyplot as plt"
   ]
  },
  {
   "cell_type": "code",
   "execution_count": 2,
   "id": "eb2a9aa9-d07b-4050-9767-2a1be088109f",
   "metadata": {},
   "outputs": [],
   "source": [
    "def relu(x):\n",
    "    return np.maximum(0,x)"
   ]
  },
  {
   "cell_type": "code",
   "execution_count": 3,
   "id": "0204fb69-b415-4c76-902b-5c52d3dd38ea",
   "metadata": {},
   "outputs": [],
   "source": [
    "def relu_derivative(x):\n",
    "    return (x > 0).astype(float)"
   ]
  },
  {
   "cell_type": "code",
   "execution_count": 4,
   "id": "dae819a9-fe8d-4b9e-b889-fbf096e855f3",
   "metadata": {},
   "outputs": [],
   "source": [
    "def mse_loss(y_true, y_pred):\n",
    "    return np.mean((y_true - y_pred)**2)"
   ]
  },
  {
   "cell_type": "code",
   "execution_count": 5,
   "id": "7c3bc481-38eb-4cee-91b5-9e14e37ccd65",
   "metadata": {},
   "outputs": [],
   "source": [
    "def forward_propagation(X, W1, b1, W2, b2):\n",
    "    Z1 = np.dot(X, W1) + b1 \n",
    "    A1 = relu(Z1)\n",
    "    Z2 = np.dot(A1, W2) + b2\n",
    "    return Z1, A1, Z2"
   ]
  },
  {
   "cell_type": "code",
   "execution_count": 6,
   "id": "650ad10b-3dc0-49c1-841a-2bde274ba51e",
   "metadata": {},
   "outputs": [],
   "source": [
    "def backward_propagation(X,Y,Z1,A1,Z2,W2):\n",
    "    m = X.shape[0]\n",
    "    dZ2 = (Z2 - Y) / m\n",
    "    dW2 = np.dot(A1.T, dZ2)\n",
    "    db2 = np.sum(dZ2, axis=0)\n",
    "\n",
    "    dA1 = np.dot(dZ2, W2.T)\n",
    "    dZ1 = dA1 * relu_derivative(Z1)\n",
    "    dW1 = np.dot(X.T, dZ1)\n",
    "    db1 = np.sum(dZ1, axis=0)\n",
    "    return dW1, db1, dW2, db2"
   ]
  },
  {
   "cell_type": "code",
   "execution_count": 7,
   "id": "18193ada-1378-4488-9112-3bb1b2e64a2b",
   "metadata": {},
   "outputs": [],
   "source": [
    "def train(X,Y, epochs=100, learning_rate=0.01):\n",
    "    np.random.seed(42)\n",
    "    W1 = np.random.randn(2,4) * 0.01\n",
    "    b1 = np.zeros((1,4))\n",
    "    W2 = np.random.randn(4,1)*0.01\n",
    "    b2 = np.zeros((1,1))\n",
    "\n",
    "    losses = []\n",
    "    for epoch in range(epochs):\n",
    "        Z1, A1, Z2 = forward_propagation(X, W1, b1, W2, b2)  \n",
    "        loss = mse_loss(Y,Z2)\n",
    "        losses.append(loss)\n",
    "        dW1, db1, dW2, db2 = backward_propagation(X,Y,Z1,A1,Z2,W2)\n",
    "        W1 -= learning_rate * dW1\n",
    "        b1 -= learning_rate * db1\n",
    "        W2 -= learning_rate * dW2\n",
    "        b2 -= learning_rate * db2\n",
    "        if epoch % 100 == 0:\n",
    "            print(f'epoch {epoch}, Loss: {loss:.4f}')\n",
    "    return W1, b1, W2, b2, losses"
   ]
  },
  {
   "cell_type": "code",
   "execution_count": 8,
   "id": "5bc00f61-a6c5-4c58-8273-bdbd118d3698",
   "metadata": {},
   "outputs": [],
   "source": [
    "X = np.array([[0,0],[0,1],[1,0],[1,1]])\n",
    "Y = np.array([[0],[1],[1],[0]])"
   ]
  },
  {
   "cell_type": "code",
   "execution_count": 9,
   "id": "3acd53f3-7681-4680-88c0-a423f88b2ceb",
   "metadata": {},
   "outputs": [
    {
     "name": "stdout",
     "output_type": "stream",
     "text": [
      "epoch 0, Loss: 0.5001\n"
     ]
    },
    {
     "data": {
      "image/png": "[encoded data removed]",
      "text/plain": [
       "<Figure size 640x480 with 1 Axes>"
      ]
     },
     "metadata": {},
     "output_type": "display_data"
    }
   ],
   "source": [
    "trained_W1, trained_b1, trained_W2, trained_b2, losses = train(X,Y)\n",
    "plt.plot(losses)\n",
    "plt.xlabel('epochs')\n",
    "plt.ylabel('loss')\n",
    "plt.title('training loss curve')\n",
    "plt.show()"
   ]
  },
  {
   "cell_type": "code",
   "execution_count": null,
   "id": "09b72431-7ed4-4af1-ac61-dacd9935fe30",
   "metadata": {},
   "outputs": [],
   "source": []
  },
  {
   "cell_type": "code",
   "execution_count": null,
   "id": "2ba5f197-066e-48a6-ae3a-e8362afe3fc0",
   "metadata": {},
   "outputs": [],
   "source": []
  },
  {
   "cell_type": "code",
   "execution_count": null,
   "id": "3beedf0d-6ae9-4f4c-a3d2-c52a3fc82f5c",
   "metadata": {},
   "outputs": [],
   "source": []
  },
  {
   "cell_type": "code",
   "execution_count": null,
   "id": "2b5fef4f-1fac-4f42-96f6-c4bd0f4723f5",
   "metadata": {},
   "outputs": [],
   "source": []
  },
  {
   "cell_type": "code",
   "execution_count": null,
   "id": "3a3cfbdf-e0b0-4519-8ce8-9ba4dee4b903",
   "metadata": {},
   "outputs": [],
   "source": []
  },
  {
   "cell_type": "code",
   "execution_count": null,
   "id": "c9131b4f-6a63-4cbe-b549-44b538229843",
   "metadata": {},
   "outputs": [],
   "source": []
  },
  {
   "cell_type": "code",
   "execution_count": null,
   "id": "f9f7d2a5-69ec-4c99-9b6b-6b90d91d3e06",
   "metadata": {},
   "outputs": [],
   "source": []
  },
  {
   "cell_type": "code",
   "execution_count": null,
   "id": "a6d8e84f-2951-4145-845f-62fbdb2ceee4",
   "metadata": {},
   "outputs": [],
   "source": []
  },
  {
   "cell_type": "code",
   "execution_count": null,
   "id": "f7c87b2a-1b4a-4ee8-9253-c7bb401d59b5",
   "metadata": {},
   "outputs": [],
   "source": []
  },
  {
   "cell_type": "code",
   "execution_count": null,
   "id": "a88ad53f-a1e2-46fb-9b87-fbc81b07cbd4",
   "metadata": {},
   "outputs": [],
   "source": []
  },
  {
   "cell_type": "code",
   "execution_count": null,
   "id": "eb32d619-1521-40b6-92c1-4b6836a7dc05",
   "metadata": {},
   "outputs": [],
   "source": []
  },
  {
   "cell_type": "code",
   "execution_count": null,
   "id": "0a7deda8-4c05-4c0c-b702-9fe457d77a09",
   "metadata": {},
   "outputs": [],
   "source": []
  }
 ],
 "metadata": {
  "kernelspec": {
   "display_name": "Python 3 (ipykernel)",
   "language": "python",
   "name": "python3"
  },
  "language_info": {
   "codemirror_mode": {
    "name": "ipython",
    "version": 3
   },
   "file_extension": ".py",
   "mimetype": "text/x-python",
   "name": "python",
   "nbconvert_exporter": "python",
   "pygments_lexer": "ipython3",
   "version": "3.12.7"
  }
 },
 "nbformat": 4,
 "nbformat_minor": 5
}
